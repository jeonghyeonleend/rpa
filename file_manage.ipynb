{
 "cells": [
  {
   "cell_type": "markdown",
   "metadata": {},
   "source": [
    "## 절대경로\n",
    "- 현재 위치에 따라 바뀌지 않는 경로\n",
    "\n",
    "## 상대경로\n",
    "- 현재 위치에 따라 바뀌는 대상 경로\n"
   ]
  },
  {
   "cell_type": "code",
   "execution_count": 3,
   "metadata": {},
   "outputs": [
    {
     "ename": "FileNotFoundError",
     "evalue": "[WinError 3] 지정된 경로를 찾을 수 없습니다: './pdf_files/'",
     "output_type": "error",
     "traceback": [
      "\u001b[1;31m---------------------------------------------------------------------------\u001b[0m",
      "\u001b[1;31mFileNotFoundError\u001b[0m                         Traceback (most recent call last)",
      "Cell \u001b[1;32mIn[3], line 6\u001b[0m\n\u001b[0;32m      2\u001b[0m \u001b[39mimport\u001b[39;00m \u001b[39mshutil\u001b[39;00m\n\u001b[0;32m      4\u001b[0m PDF_PATH \u001b[39m=\u001b[39m \u001b[39m'\u001b[39m\u001b[39m./pdf_files/\u001b[39m\u001b[39m'\u001b[39m\n\u001b[1;32m----> 6\u001b[0m \u001b[39mfor\u001b[39;00m file_name \u001b[39min\u001b[39;00m os\u001b[39m.\u001b[39;49mlistdir(PDF_PATH):\n\u001b[0;32m      7\u001b[0m     \u001b[39mif\u001b[39;00m \u001b[39m'\u001b[39m\u001b[39m.pdf\u001b[39m\u001b[39m'\u001b[39m \u001b[39mnot\u001b[39;00m \u001b[39min\u001b[39;00m file_name: \u001b[39mcontinue\u001b[39;00m\n\u001b[0;32m      8\u001b[0m     data_str \u001b[39m=\u001b[39m file_name\u001b[39m.\u001b[39msplit(\u001b[39m'\u001b[39m\u001b[39m_\u001b[39m\u001b[39m'\u001b[39m)[\u001b[39m1\u001b[39m]\n",
      "\u001b[1;31mFileNotFoundError\u001b[0m: [WinError 3] 지정된 경로를 찾을 수 없습니다: './pdf_files/'"
     ]
    }
   ],
   "source": [
    "import os\n",
    "import shutil\n",
    "\n",
    "PDF_PATH = './pdf_files/'\n",
    "\n",
    "for file_name in os.listdir(PDF_PATH):\n",
    "    if '.pdf' not in file_name: continue\n",
    "    data_str = file_name.split('_')[1]\n",
    "\n",
    "    os.makedirs(PDF_PATH + date_str, exist_ok=True)\n",
    "\n",
    "    shutil.move(PDF_PATH + file_name, PDF_PATH + date_str + '/' + file_name)"
   ]
  },
  {
   "cell_type": "code",
   "execution_count": 4,
   "metadata": {},
   "outputs": [
    {
     "data": {
      "text/plain": [
       "['data',\n",
       " 'machinelearning.ipynb',\n",
       " '01_01_Linear_Regression.ipynb',\n",
       " 'data.csv',\n",
       " '내용정리.txt',\n",
       " 'README.md',\n",
       " '.git',\n",
       " '01_02 Ridge, Lasso, Elastic Net.ipynb',\n",
       " 'readme.md',\n",
       " 'house.ipynb',\n",
       " '01_03_선형회귀_직접구현.ipynb',\n",
       " 'crawling.ipynb',\n",
       " '06_02_CNN.ipynb',\n",
       " 'house.ipynb\\uf03acom.dropbox.attrs',\n",
       " 'house.ipynb\\uf03aZone.Identifier',\n",
       " '06_04_CNN_응용_모델.ipynb',\n",
       " '02_01 Logistic Regression.ipynb',\n",
       " '06_03_VGGNet_직접_구현하기.ipynb',\n",
       " 'db_manage.ipynb',\n",
       " 'mysqld.sock',\n",
       " 'file_manage.ipynb',\n",
       " 'algorithm',\n",
       " '07_02_GAN.ipynb',\n",
       " 'practice2.py',\n",
       " 'test2']"
      ]
     },
     "execution_count": 4,
     "metadata": {},
     "output_type": "execute_result"
    }
   ],
   "source": [
    "os.listdir('.')"
   ]
  },
  {
   "cell_type": "code",
   "execution_count": 5,
   "metadata": {},
   "outputs": [],
   "source": [
    "# os.mkdir('./test') # 하나만\n",
    "\n",
    "os.makedirs('./test2/실습1/ostest/folder', exist_ok=True) # 경로내의 폴더 모두 생성\n",
    "\n",
    "# ../ 상위경로"
   ]
  },
  {
   "cell_type": "code",
   "execution_count": 6,
   "metadata": {},
   "outputs": [
    {
     "data": {
      "text/plain": [
       "'\\\\\\\\wsl.localhost\\\\Ubuntu-20.04\\\\home\\\\user\\\\webc\\\\jeonghyeon_workspace'"
      ]
     },
     "execution_count": 6,
     "metadata": {},
     "output_type": "execute_result"
    }
   ],
   "source": [
    "os.path.abspath('.') # 절대경로"
   ]
  },
  {
   "cell_type": "code",
   "execution_count": 7,
   "metadata": {},
   "outputs": [
    {
     "data": {
      "text/plain": [
       "True"
      ]
     },
     "execution_count": 7,
     "metadata": {},
     "output_type": "execute_result"
    }
   ],
   "source": [
    "os.path.exists('./test2')"
   ]
  },
  {
   "cell_type": "code",
   "execution_count": 8,
   "metadata": {},
   "outputs": [
    {
     "data": {
      "text/plain": [
       "['data',\n",
       " 'machinelearning.ipynb',\n",
       " '01_01_Linear_Regression.ipynb',\n",
       " 'data.csv',\n",
       " '내용정리.txt',\n",
       " 'README.md',\n",
       " '.git',\n",
       " '01_02 Ridge, Lasso, Elastic Net.ipynb',\n",
       " 'readme.md',\n",
       " 'house.ipynb',\n",
       " '01_03_선형회귀_직접구현.ipynb',\n",
       " 'crawling.ipynb',\n",
       " '06_02_CNN.ipynb',\n",
       " 'house.ipynb\\uf03acom.dropbox.attrs',\n",
       " 'house.ipynb\\uf03aZone.Identifier',\n",
       " '06_04_CNN_응용_모델.ipynb',\n",
       " '02_01 Logistic Regression.ipynb',\n",
       " '06_03_VGGNet_직접_구현하기.ipynb',\n",
       " 'db_manage.ipynb',\n",
       " 'mysqld.sock',\n",
       " 'file_manage.ipynb',\n",
       " 'algorithm',\n",
       " '07_02_GAN.ipynb',\n",
       " 'practice2.py',\n",
       " 'test2']"
      ]
     },
     "execution_count": 8,
     "metadata": {},
     "output_type": "execute_result"
    }
   ],
   "source": [
    "os.listdir()"
   ]
  },
  {
   "cell_type": "code",
   "execution_count": 15,
   "metadata": {},
   "outputs": [
    {
     "data": {
      "text/plain": [
       "(False, False)"
      ]
     },
     "execution_count": 15,
     "metadata": {},
     "output_type": "execute_result"
    }
   ],
   "source": [
    "os.path.isdir('./file_manage.ipynb'), os.path.isdir('./test')"
   ]
  },
  {
   "cell_type": "code",
   "execution_count": 16,
   "metadata": {},
   "outputs": [
    {
     "ename": "FileNotFoundError",
     "evalue": "[WinError 2] 지정된 파일을 찾을 수 없습니다: './test.txt'",
     "output_type": "error",
     "traceback": [
      "\u001b[1;31m---------------------------------------------------------------------------\u001b[0m",
      "\u001b[1;31mFileNotFoundError\u001b[0m                         Traceback (most recent call last)",
      "Cell \u001b[1;32mIn[16], line 1\u001b[0m\n\u001b[1;32m----> 1\u001b[0m os\u001b[39m.\u001b[39;49mremove(\u001b[39m'\u001b[39;49m\u001b[39m./test.txt\u001b[39;49m\u001b[39m'\u001b[39;49m)\n",
      "\u001b[1;31mFileNotFoundError\u001b[0m: [WinError 2] 지정된 파일을 찾을 수 없습니다: './test.txt'"
     ]
    }
   ],
   "source": [
    "os.remove('./test.txt') # 파일 삭제"
   ]
  },
  {
   "cell_type": "code",
   "execution_count": 16,
   "metadata": {},
   "outputs": [],
   "source": [
    "os.removedirs('./test') # 디렉토리 삭제"
   ]
  },
  {
   "cell_type": "code",
   "execution_count": 24,
   "metadata": {},
   "outputs": [],
   "source": [
    "os.removedirs('../test2/실습1/ostest/folder/')"
   ]
  },
  {
   "cell_type": "code",
   "execution_count": 26,
   "metadata": {},
   "outputs": [
    {
     "ename": "FileNotFoundError",
     "evalue": "[Errno 2] No such file or directory: './실습1/file_maker.py'",
     "output_type": "error",
     "traceback": [
      "\u001b[1;31m---------------------------------------------------------------------------\u001b[0m",
      "\u001b[1;31mFileNotFoundError\u001b[0m                         Traceback (most recent call last)",
      "File \u001b[1;32mc:\\Users\\dlwjd\\anaconda3\\envs\\webc\\lib\\shutil.py:816\u001b[0m, in \u001b[0;36mmove\u001b[1;34m(src, dst, copy_function)\u001b[0m\n\u001b[0;32m    815\u001b[0m \u001b[39mtry\u001b[39;00m:\n\u001b[1;32m--> 816\u001b[0m     os\u001b[39m.\u001b[39;49mrename(src, real_dst)\n\u001b[0;32m    817\u001b[0m \u001b[39mexcept\u001b[39;00m \u001b[39mOSError\u001b[39;00m:\n",
      "\u001b[1;31mFileNotFoundError\u001b[0m: [WinError 3] 지정된 경로를 찾을 수 없습니다: './실습1/file_maker.py' -> '../test/file_maker.py'",
      "\nDuring handling of the above exception, another exception occurred:\n",
      "\u001b[1;31mFileNotFoundError\u001b[0m                         Traceback (most recent call last)",
      "Cell \u001b[1;32mIn[26], line 3\u001b[0m\n\u001b[0;32m      1\u001b[0m \u001b[39m# os.mkdir('../test')\u001b[39;00m\n\u001b[1;32m----> 3\u001b[0m shutil\u001b[39m.\u001b[39;49mmove(\u001b[39m'\u001b[39;49m\u001b[39m./실습1/file_maker.py\u001b[39;49m\u001b[39m'\u001b[39;49m, \u001b[39m'\u001b[39;49m\u001b[39m../test/file_maker.py\u001b[39;49m\u001b[39m'\u001b[39;49m)\n",
      "File \u001b[1;32mc:\\Users\\dlwjd\\anaconda3\\envs\\webc\\lib\\shutil.py:836\u001b[0m, in \u001b[0;36mmove\u001b[1;34m(src, dst, copy_function)\u001b[0m\n\u001b[0;32m    834\u001b[0m         rmtree(src)\n\u001b[0;32m    835\u001b[0m     \u001b[39melse\u001b[39;00m:\n\u001b[1;32m--> 836\u001b[0m         copy_function(src, real_dst)\n\u001b[0;32m    837\u001b[0m         os\u001b[39m.\u001b[39munlink(src)\n\u001b[0;32m    838\u001b[0m \u001b[39mreturn\u001b[39;00m real_dst\n",
      "File \u001b[1;32mc:\\Users\\dlwjd\\anaconda3\\envs\\webc\\lib\\shutil.py:434\u001b[0m, in \u001b[0;36mcopy2\u001b[1;34m(src, dst, follow_symlinks)\u001b[0m\n\u001b[0;32m    432\u001b[0m \u001b[39mif\u001b[39;00m os\u001b[39m.\u001b[39mpath\u001b[39m.\u001b[39misdir(dst):\n\u001b[0;32m    433\u001b[0m     dst \u001b[39m=\u001b[39m os\u001b[39m.\u001b[39mpath\u001b[39m.\u001b[39mjoin(dst, os\u001b[39m.\u001b[39mpath\u001b[39m.\u001b[39mbasename(src))\n\u001b[1;32m--> 434\u001b[0m copyfile(src, dst, follow_symlinks\u001b[39m=\u001b[39;49mfollow_symlinks)\n\u001b[0;32m    435\u001b[0m copystat(src, dst, follow_symlinks\u001b[39m=\u001b[39mfollow_symlinks)\n\u001b[0;32m    436\u001b[0m \u001b[39mreturn\u001b[39;00m dst\n",
      "File \u001b[1;32mc:\\Users\\dlwjd\\anaconda3\\envs\\webc\\lib\\shutil.py:254\u001b[0m, in \u001b[0;36mcopyfile\u001b[1;34m(src, dst, follow_symlinks)\u001b[0m\n\u001b[0;32m    252\u001b[0m     os\u001b[39m.\u001b[39msymlink(os\u001b[39m.\u001b[39mreadlink(src), dst)\n\u001b[0;32m    253\u001b[0m \u001b[39melse\u001b[39;00m:\n\u001b[1;32m--> 254\u001b[0m     \u001b[39mwith\u001b[39;00m \u001b[39mopen\u001b[39;49m(src, \u001b[39m'\u001b[39;49m\u001b[39mrb\u001b[39;49m\u001b[39m'\u001b[39;49m) \u001b[39mas\u001b[39;00m fsrc:\n\u001b[0;32m    255\u001b[0m         \u001b[39mtry\u001b[39;00m:\n\u001b[0;32m    256\u001b[0m             \u001b[39mwith\u001b[39;00m \u001b[39mopen\u001b[39m(dst, \u001b[39m'\u001b[39m\u001b[39mwb\u001b[39m\u001b[39m'\u001b[39m) \u001b[39mas\u001b[39;00m fdst:\n\u001b[0;32m    257\u001b[0m                 \u001b[39m# macOS\u001b[39;00m\n",
      "\u001b[1;31mFileNotFoundError\u001b[0m: [Errno 2] No such file or directory: './실습1/file_maker.py'"
     ]
    }
   ],
   "source": [
    "# os.mkdir('../test')\n",
    "\n",
    "shutil.move('./실습1/file_maker.py', '../test/file_maker.py') # 파일 이동\n"
   ]
  },
  {
   "cell_type": "code",
   "execution_count": null,
   "metadata": {},
   "outputs": [],
   "source": [
    "shutil.copy() # 파일 복제"
   ]
  },
  {
   "cell_type": "code",
   "execution_count": null,
   "metadata": {},
   "outputs": [],
   "source": [
    "shutil.rmtree()"
   ]
  },
  {
   "cell_type": "code",
   "execution_count": 19,
   "metadata": {},
   "outputs": [],
   "source": [
    "PDF_PATH = './실습1/pdf_files/'"
   ]
  },
  {
   "cell_type": "code",
   "execution_count": 1,
   "metadata": {},
   "outputs": [
    {
     "ename": "NameError",
     "evalue": "name 'os' is not defined",
     "output_type": "error",
     "traceback": [
      "\u001b[1;31m---------------------------------------------------------------------------\u001b[0m",
      "\u001b[1;31mNameError\u001b[0m                                 Traceback (most recent call last)",
      "Cell \u001b[1;32mIn[1], line 1\u001b[0m\n\u001b[1;32m----> 1\u001b[0m \u001b[39mfor\u001b[39;00m file_name \u001b[39min\u001b[39;00m os\u001b[39m.\u001b[39mlistdir(PDF_PATH):\n\u001b[0;32m      2\u001b[0m     \u001b[39mif\u001b[39;00m \u001b[39m'\u001b[39m\u001b[39m.pdf\u001b[39m\u001b[39m'\u001b[39m \u001b[39mnot\u001b[39;00m \u001b[39min\u001b[39;00m file_name: \u001b[39mcontinue\u001b[39;00m\n\u001b[0;32m      3\u001b[0m     data_str \u001b[39m=\u001b[39m file_name\u001b[39m.\u001b[39msplit(\u001b[39m'\u001b[39m\u001b[39m_\u001b[39m\u001b[39m'\u001b[39m)[\u001b[39m1\u001b[39m]\n",
      "\u001b[1;31mNameError\u001b[0m: name 'os' is not defined"
     ]
    }
   ],
   "source": [
    "for file_name in os.listdir(PDF_PATH):\n",
    "    if '.pdf' not in file_name: continue\n",
    "    data_str = file_name.split('_')[1]\n",
    "\n",
    "    os.makedirs(PDF_PATH + date_str, exist_ok=True)\n",
    "\n",
    "    shutil.move(PDF_PATH + file_name, PDF_PATH + date_str + '/' + file_name)"
   ]
  },
  {
   "cell_type": "code",
   "execution_count": null,
   "metadata": {},
   "outputs": [],
   "source": []
  }
 ],
 "metadata": {
  "kernelspec": {
   "display_name": "Python 3",
   "language": "python",
   "name": "python3"
  },
  "language_info": {
   "codemirror_mode": {
    "name": "ipython",
    "version": 3
   },
   "file_extension": ".py",
   "mimetype": "text/x-python",
   "name": "python",
   "nbconvert_exporter": "python",
   "pygments_lexer": "ipython3",
   "version": "3.10.11"
  },
  "orig_nbformat": 4
 },
 "nbformat": 4,
 "nbformat_minor": 2
}
