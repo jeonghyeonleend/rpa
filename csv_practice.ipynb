{
 "cells": [
  {
   "cell_type": "code",
   "execution_count": 1,
   "metadata": {},
   "outputs": [],
   "source": [
    "import os\n",
    "import shutil\n",
    "import openpyxl"
   ]
  },
  {
   "cell_type": "code",
   "execution_count": 1,
   "metadata": {},
   "outputs": [],
   "source": [
    "with open('./test.csv', 'w') as f:\n",
    "    f.write('33442\\t3333\\t4444')"
   ]
  },
  {
   "cell_type": "code",
   "execution_count": 4,
   "metadata": {},
   "outputs": [
    {
     "data": {
      "text/plain": [
       "['.git', 'csv_practice.ipynb', 'test.csv']"
      ]
     },
     "execution_count": 4,
     "metadata": {},
     "output_type": "execute_result"
    }
   ],
   "source": [
    "os.listdir('.')"
   ]
  },
  {
   "cell_type": "code",
   "execution_count": 14,
   "metadata": {},
   "outputs": [
    {
     "ename": "PermissionError",
     "evalue": "[Errno 13] Permission denied: '/test.csv'",
     "output_type": "error",
     "traceback": [
      "\u001b[1;31m---------------------------------------------------------------------------\u001b[0m",
      "\u001b[1;31mPermissionError\u001b[0m                           Traceback (most recent call last)",
      "Cell \u001b[1;32mIn[14], line 1\u001b[0m\n\u001b[1;32m----> 1\u001b[0m \u001b[39mwith\u001b[39;00m \u001b[39mopen\u001b[39;49m(\u001b[39m'\u001b[39;49m\u001b[39m/test.csv\u001b[39;49m\u001b[39m'\u001b[39;49m, \u001b[39m'\u001b[39;49m\u001b[39ma\u001b[39;49m\u001b[39m'\u001b[39;49m) \u001b[39mas\u001b[39;00m f:\n\u001b[0;32m      2\u001b[0m     \u001b[39m#data= f.readlines()\u001b[39;00m\n\u001b[0;32m      4\u001b[0m     f\u001b[39m.\u001b[39mwrite(\u001b[39m'\u001b[39m\u001b[39m444,1234,345\u001b[39m\u001b[39m\\n\u001b[39;00m\u001b[39m'\u001b[39m)\n",
      "File \u001b[1;32mc:\\Users\\dlwjd\\anaconda3\\envs\\webc\\lib\\site-packages\\IPython\\core\\interactiveshell.py:284\u001b[0m, in \u001b[0;36m_modified_open\u001b[1;34m(file, *args, **kwargs)\u001b[0m\n\u001b[0;32m    277\u001b[0m \u001b[39mif\u001b[39;00m file \u001b[39min\u001b[39;00m {\u001b[39m0\u001b[39m, \u001b[39m1\u001b[39m, \u001b[39m2\u001b[39m}:\n\u001b[0;32m    278\u001b[0m     \u001b[39mraise\u001b[39;00m \u001b[39mValueError\u001b[39;00m(\n\u001b[0;32m    279\u001b[0m         \u001b[39mf\u001b[39m\u001b[39m\"\u001b[39m\u001b[39mIPython won\u001b[39m\u001b[39m'\u001b[39m\u001b[39mt let you open fd=\u001b[39m\u001b[39m{\u001b[39;00mfile\u001b[39m}\u001b[39;00m\u001b[39m by default \u001b[39m\u001b[39m\"\u001b[39m\n\u001b[0;32m    280\u001b[0m         \u001b[39m\"\u001b[39m\u001b[39mas it is likely to crash IPython. If you know what you are doing, \u001b[39m\u001b[39m\"\u001b[39m\n\u001b[0;32m    281\u001b[0m         \u001b[39m\"\u001b[39m\u001b[39myou can use builtins\u001b[39m\u001b[39m'\u001b[39m\u001b[39m open.\u001b[39m\u001b[39m\"\u001b[39m\n\u001b[0;32m    282\u001b[0m     )\n\u001b[1;32m--> 284\u001b[0m \u001b[39mreturn\u001b[39;00m io_open(file, \u001b[39m*\u001b[39margs, \u001b[39m*\u001b[39m\u001b[39m*\u001b[39mkwargs)\n",
      "\u001b[1;31mPermissionError\u001b[0m: [Errno 13] Permission denied: '/test.csv'"
     ]
    }
   ],
   "source": [
    "with open('/test.csv', 'a') as f:\n",
    "    #data= f.readlines()\n",
    "\n",
    "    f.write('444,1234,345\\n')\n",
    "\n",
    "#f는 기존꺼 버리고 아예 새로 생성, a는 원본 그대로를 가져옴. "
   ]
  },
  {
   "cell_type": "code",
   "execution_count": 15,
   "metadata": {},
   "outputs": [],
   "source": [
    "with open('order.csv', 'w', encoding = 'utf-8') as f:\n",
    "    f.write('고객명, 상품명, 수량, 금액\\n')\n",
    "\n",
    "    #,로 분리돼서 하나씩 들어가므로 \n"
   ]
  },
  {
   "cell_type": "code",
   "execution_count": 17,
   "metadata": {},
   "outputs": [],
   "source": [
    "with open('./order.csv', 'a', encoding = 'utf-8') as f:\n",
    "    f.write('jason, 신발, 1,75000\\n')"
   ]
  },
  {
   "cell_type": "code",
   "execution_count": 22,
   "metadata": {},
   "outputs": [],
   "source": [
    "order_list = [\n",
    "    ['지은', '신발', 1, 90000],\n",
    "    ['보조강사', '과자', 10, 5000]\n",
    "]\n",
    "\n",
    "#이렇게 쌓인 데이터를 csv 파일 안에 적으려구 하는 것. "
   ]
  },
  {
   "cell_type": "code",
   "execution_count": 26,
   "metadata": {},
   "outputs": [],
   "source": [
    "with open('./order.csv', 'a', encoding = 'utf-8') as f:\n",
    "    for order in order_list:\n",
    "        f.write(','.join(map(str,order))+'\\n')\n",
    "\n",
    "#pandas dateframe안해도 이렇게 읽고 쓰고 할 수 있다고 "
   ]
  },
  {
   "cell_type": "code",
   "execution_count": 34,
   "metadata": {},
   "outputs": [],
   "source": [
    "with open('./order.csv', 'r', encoding='utf-8') as f:\n",
    "    #read_str = f.read() #모든 텍스트를 하나의 문자열로 읽어옴\n",
    "    #read_one_line = f.readline() #한 줄만 읽어옴\n",
    "    read_multiple_lines = f.readlines() #여러줄을 다 읽어옴, 얘를 주로 씀"
   ]
  },
  {
   "cell_type": "code",
   "execution_count": 31,
   "metadata": {},
   "outputs": [
    {
     "data": {
      "text/plain": [
       "[['고객명', ' 상품명', ' 수량', ' 금액'],\n",
       " ['jason', ' 신발', ' 1', '75000'],\n",
       " ['지은', '신발', '1', '90000보조강사', '과자', '10', '5000지은', '신발', '1', '90000'],\n",
       " ['보조강사', '과자', '10', '5000']]"
      ]
     },
     "execution_count": 31,
     "metadata": {},
     "output_type": "execute_result"
    }
   ],
   "source": [
    "[l.split(',') for l in read_str.split('\\n') if l]"
   ]
  },
  {
   "cell_type": "code",
   "execution_count": 35,
   "metadata": {},
   "outputs": [
    {
     "data": {
      "text/plain": [
       "['고객명, 상품명, 수량, 금액\\n',\n",
       " 'jason, 신발, 1,75000\\n',\n",
       " '지은,신발,1,90000보조강사,과자,10,5000지은,신발,1,90000\\n',\n",
       " '보조강사,과자,10,5000\\n']"
      ]
     },
     "execution_count": 35,
     "metadata": {},
     "output_type": "execute_result"
    }
   ],
   "source": [
    "read_multiple_lines"
   ]
  },
  {
   "cell_type": "code",
   "execution_count": 37,
   "metadata": {},
   "outputs": [
    {
     "data": {
      "text/plain": [
       "[['고객명', ' 상품명', ' 수량', ' 금액'],\n",
       " ['jason', ' 신발', ' 1', '75000'],\n",
       " ['지은', '신발', '1', '90000보조강사', '과자', '10', '5000지은', '신발', '1', '90000'],\n",
       " ['보조강사', '과자', '10', '5000']]"
      ]
     },
     "execution_count": 37,
     "metadata": {},
     "output_type": "execute_result"
    }
   ],
   "source": [
    "[order.rstrip().split(',') for order in read_multiple_lines]\n",
    "#줄바꿈기호까지 같이 가져오게되므로 rstrip()을 해줌. \n",
    "#끝에 줄바꿈기호 잘 붙임. "
   ]
  },
  {
   "cell_type": "code",
   "execution_count": null,
   "metadata": {},
   "outputs": [],
   "source": [
    "#csv로 작성된 연도, 월별 판매데이터를 취합해 한 개의 csv파일에 연도, 월, 매출로 구성된 파일을 생성하기. "
   ]
  },
  {
   "cell_type": "code",
   "execution_count": 28,
   "metadata": {},
   "outputs": [
    {
     "name": "stdout",
     "output_type": "stream",
     "text": [
      " C ����̺��� �������� �̸��� �����ϴ�.\n",
      " ���� �Ϸ� ��ȣ: EE42-38A4\n",
      "\n",
      " c:\\Users\\dlwjd\\rpa ���͸�\n",
      "\n",
      "07/26/2023  ���� 01:19    <DIR>          .\n",
      "07/26/2023  ���� 11:41    <DIR>          ..\n",
      "07/26/2023  ���� 12:14                 0 2017.01\n",
      "07/26/2023  ���� 01:19                 0 2017.01.csv\n",
      "07/26/2023  ���� 01:19            11,951 csv_practice.ipynb\n",
      "07/26/2023  ���� 12:06            13,556 file_manage.ipynb\n",
      "07/26/2023  ���� 11:56               162 order.csv\n",
      "07/26/2023  ���� 11:44                15 test.csv\n",
      "07/26/2023  ���� 12:08    <DIR>          �ǽ�1\n",
      "07/26/2023  ���� 12:10    <DIR>          �ǽ�2\n",
      "07/26/2023  ���� 12:08    <DIR>          �ǽ�3\n",
      "07/26/2023  ���� 12:08    <DIR>          �ǽ�5\n",
      "               6�� ����              25,684 ����Ʈ\n",
      "               6�� ���͸�  64,439,148,544 ����Ʈ ����\n"
     ]
    }
   ],
   "source": [
    "ls"
   ]
  },
  {
   "cell_type": "code",
   "execution_count": 29,
   "metadata": {},
   "outputs": [],
   "source": [
    "\n",
    "\n",
    "for i in range(1,13):\n",
    "    if i <10:\n",
    "        with open(f'./실습2/2017.0{i}.csv', 'r', encoding='cp949') as f:\n",
    "           f.read()\n",
    "\n",
    "    else:\n",
    "       with open(f'./실습2/2017.{i}.csv','r', encoding='cp949') as f:\n",
    "           f.read()\n"
   ]
  },
  {
   "cell_type": "code",
   "execution_count": 31,
   "metadata": {},
   "outputs": [
    {
     "data": {
      "text/plain": [
       "['.git',\n",
       " '2017.01',\n",
       " '2017.01.csv',\n",
       " 'csv_practice.ipynb',\n",
       " 'file_manage.ipynb',\n",
       " 'order.csv',\n",
       " 'test.csv',\n",
       " '실습1',\n",
       " '실습2',\n",
       " '실습3',\n",
       " '실습5']"
      ]
     },
     "execution_count": 31,
     "metadata": {},
     "output_type": "execute_result"
    }
   ],
   "source": [
    "os.listdir()"
   ]
  },
  {
   "cell_type": "code",
   "execution_count": 23,
   "metadata": {},
   "outputs": [
    {
     "ename": "UnsupportedOperation",
     "evalue": "not readable",
     "output_type": "error",
     "traceback": [
      "\u001b[1;31m---------------------------------------------------------------------------\u001b[0m",
      "\u001b[1;31mUnsupportedOperation\u001b[0m                      Traceback (most recent call last)",
      "Cell \u001b[1;32mIn[23], line 2\u001b[0m\n\u001b[0;32m      1\u001b[0m \u001b[39mwith\u001b[39;00m \u001b[39mopen\u001b[39m(\u001b[39m'\u001b[39m\u001b[39m./2017.01.csv\u001b[39m\u001b[39m'\u001b[39m, \u001b[39m'\u001b[39m\u001b[39ma\u001b[39m\u001b[39m'\u001b[39m, encoding \u001b[39m=\u001b[39m \u001b[39m'\u001b[39m\u001b[39mcp949\u001b[39m\u001b[39m'\u001b[39m) \u001b[39mas\u001b[39;00m f:\n\u001b[1;32m----> 2\u001b[0m         f\u001b[39m.\u001b[39;49mread()\n",
      "\u001b[1;31mUnsupportedOperation\u001b[0m: not readable"
     ]
    }
   ],
   "source": [
    "with open('./2017.01.csv', 'a', encoding = 'cp949') as f:\n",
    "        f.read()"
   ]
  },
  {
   "cell_type": "code",
   "execution_count": 24,
   "metadata": {},
   "outputs": [],
   "source": [
    "with open('./2017.01.csv', 'r', encoding='cp949') as f:\n",
    "    content = f.read()\n",
    "    # 파일 내용을 이용한 원하는 작업을 수행합니다.\n"
   ]
  },
  {
   "cell_type": "code",
   "execution_count": 30,
   "metadata": {},
   "outputs": [
    {
     "data": {
      "text/plain": [
       "'utf-8'"
      ]
     },
     "execution_count": 30,
     "metadata": {},
     "output_type": "execute_result"
    }
   ],
   "source": [
    "import sys\n",
    "sys.getfilesystemencoding()"
   ]
  },
  {
   "cell_type": "code",
   "execution_count": 2,
   "metadata": {},
   "outputs": [],
   "source": [
    "BASE_DIR = './실습2/'\n",
    "\n",
    "\n",
    "csv_files = os.listdir(BASE_DIR)"
   ]
  },
  {
   "cell_type": "code",
   "execution_count": 3,
   "metadata": {},
   "outputs": [
    {
     "data": {
      "text/plain": [
       "['2017.01.csv',\n",
       " '2017.02.csv',\n",
       " '2017.03.csv',\n",
       " '2017.04.csv',\n",
       " '2017.05.csv',\n",
       " '2017.06.csv',\n",
       " '2017.07.csv',\n",
       " '2017.08.csv',\n",
       " '2017.09.csv',\n",
       " '2017.10.csv',\n",
       " '2017.11.csv',\n",
       " '2017.12.csv']"
      ]
     },
     "execution_count": 3,
     "metadata": {},
     "output_type": "execute_result"
    }
   ],
   "source": [
    "csv_files"
   ]
  },
  {
   "cell_type": "code",
   "execution_count": 47,
   "metadata": {},
   "outputs": [],
   "source": [
    "sell_data = []\n",
    "\n",
    "for cf in csv_files:\n",
    "    datas = open(BASE_DIR + cf, 'r', encoding = 'cp949').readlines()\n",
    "    summation = 0\n",
    "    for l in datas[1:]:\n",
    "        money = int(l.split(',')[1])\n",
    "        summation += money\n",
    "    \n",
    "    year, month, _ = cf.split('.') #언팩킹\n",
    "\n",
    "    sell_data.append([year, month, summation])\n",
    "\n",
    "    #with open(BASE_DIR + cf, 'r') as f:\n",
    "        #f.readlines() #이거 두개 차이 없고 똑같다구 함. \n",
    "        "
   ]
  },
  {
   "cell_type": "code",
   "execution_count": 45,
   "metadata": {},
   "outputs": [
    {
     "data": {
      "text/plain": [
       "8040000"
      ]
     },
     "execution_count": 45,
     "metadata": {},
     "output_type": "execute_result"
    }
   ],
   "source": [
    "summation"
   ]
  },
  {
   "cell_type": "code",
   "execution_count": 48,
   "metadata": {},
   "outputs": [
    {
     "data": {
      "text/plain": [
       "[['2017', '01', 7240000],\n",
       " ['2017', '02', 7410000],\n",
       " ['2017', '03', 7550000],\n",
       " ['2017', '04', 7720000],\n",
       " ['2017', '05', 7950000],\n",
       " ['2017', '06', 7730000],\n",
       " ['2017', '07', 8000000],\n",
       " ['2017', '08', 7740000],\n",
       " ['2017', '09', 7940000],\n",
       " ['2017', '10', 7810000],\n",
       " ['2017', '11', 7320000],\n",
       " ['2017', '12', 8040000]]"
      ]
     },
     "execution_count": 48,
     "metadata": {},
     "output_type": "execute_result"
    }
   ],
   "source": [
    "sell_data"
   ]
  },
  {
   "cell_type": "code",
   "execution_count": null,
   "metadata": {},
   "outputs": [],
   "source": [
    "with open(BASE_DIR  + '../summary.csv', 'w', encoding = 'utf-8') as f:\n",
    "    f.write('연도, 월, 매출\\n')\n",
    "\n",
    "    for sd in sell_data:\n",
    "        "
   ]
  },
  {
   "cell_type": "code",
   "execution_count": 5,
   "metadata": {},
   "outputs": [],
   "source": [
    "log = openpyxl.Workbook()"
   ]
  },
  {
   "cell_type": "code",
   "execution_count": 4,
   "metadata": {},
   "outputs": [
    {
     "ename": "NameError",
     "evalue": "name 'log' is not defined",
     "output_type": "error",
     "traceback": [
      "\u001b[1;31m---------------------------------------------------------------------------\u001b[0m",
      "\u001b[1;31mNameError\u001b[0m                                 Traceback (most recent call last)",
      "Cell \u001b[1;32mIn[4], line 3\u001b[0m\n\u001b[0;32m      1\u001b[0m \u001b[39mfor\u001b[39;00m cf \u001b[39min\u001b[39;00m csv_files:\n\u001b[0;32m      2\u001b[0m     datas \u001b[39m=\u001b[39m \u001b[39mopen\u001b[39m(BASE_DIR \u001b[39m+\u001b[39m cf, \u001b[39m'\u001b[39m\u001b[39mr\u001b[39m\u001b[39m'\u001b[39m, encoding \u001b[39m=\u001b[39m \u001b[39m'\u001b[39m\u001b[39mcp949\u001b[39m\u001b[39m'\u001b[39m)\u001b[39m.\u001b[39mreadlines()\n\u001b[1;32m----> 3\u001b[0m     log\u001b[39m.\u001b[39mappend(datas)\n",
      "\u001b[1;31mNameError\u001b[0m: name 'log' is not defined"
     ]
    }
   ],
   "source": [
    "for cf in csv_files:\n",
    "    datas = open(BASE_DIR + cf, 'r', encoding = 'cp949').readlines()\n",
    "    log.append(datas)\n"
   ]
  },
  {
   "cell_type": "code",
   "execution_count": 30,
   "metadata": {},
   "outputs": [],
   "source": [
    "#강사님\n",
    "import os\n",
    "\n",
    "# 1. os.listdir()로 excel파일목록 확인\n",
    "excel_files = os.listdir('./실습3/')\n",
    "#list dir하면 이름들만 가져옴. 이렇게 ㄴㄴ\n",
    "#파일 읽어올 때 경로도 같이 줘야 load workbook안. \n",
    "log_excel = openpyxl.Workbook()\n",
    "log_sheet= log_excel.active\n",
    "# 2. 엑셀파일을 하나씩 열어서 파일목록 가져오기\n",
    "for excel_file in excel_files:\n",
    "    wb = openpyxl.load_workbook('./실습3/' + excel_file)\n",
    "    ws = wb.active\n",
    "    cells = ws['A1:C24']\n",
    "    for row in cells:\n",
    "        values = [cell.value for cell in row]\n",
    "        log_sheet.append(values)\n",
    "        #append잘 안쓰지만 이렇게 쓰는게 효율적이라고 함. \n",
    "        #다르게도 할 수 있음. \n",
    "        #row_index= 1\n",
    "        #for log_row in log_Sheet[f'A{row_index}:C{row_index}']:\n",
    "        #for i, cell in enumerate(log_row):\n",
    "        #cell.value = row[i].value\n",
    "        #row_index+=1"
   ]
  },
  {
   "cell_type": "code",
   "execution_count": 27,
   "metadata": {},
   "outputs": [],
   "source": [
    "log_excel.save('./실습3/log.xlsx')"
   ]
  },
  {
   "cell_type": "code",
   "execution_count": null,
   "metadata": {},
   "outputs": [],
   "source": []
  },
  {
   "cell_type": "code",
   "execution_count": null,
   "metadata": {},
   "outputs": [],
   "source": []
  }
 ],
 "metadata": {
  "kernelspec": {
   "display_name": "webc",
   "language": "python",
   "name": "python3"
  },
  "language_info": {
   "codemirror_mode": {
    "name": "ipython",
    "version": 3
   },
   "file_extension": ".py",
   "mimetype": "text/x-python",
   "name": "python",
   "nbconvert_exporter": "python",
   "pygments_lexer": "ipython3",
   "version": "3.10.11"
  },
  "orig_nbformat": 4
 },
 "nbformat": 4,
 "nbformat_minor": 2
}
