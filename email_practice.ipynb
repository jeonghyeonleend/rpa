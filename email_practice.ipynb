{
 "cells": [
  {
   "cell_type": "code",
   "execution_count": 48,
   "metadata": {},
   "outputs": [],
   "source": [
    "import email\n",
    "import smtplib\n",
    "import os"
   ]
  },
  {
   "cell_type": "code",
   "execution_count": 49,
   "metadata": {},
   "outputs": [],
   "source": [
    "with open('secret', 'r') as f:\n",
    "    secret = { l.split('=')[0]:l.split('=')[1].rstrip()  for l in f.readlines() }"
   ]
  },
  {
   "cell_type": "code",
   "execution_count": 50,
   "metadata": {},
   "outputs": [
    {
     "data": {
      "text/plain": [
       "{'EMAIL_ID': 'hyeondays223',\n",
       " 'EMAIL_PASSWORD': 'wjdgus%2736',\n",
       " 'SMTP_PASSWORD': '7WPE6RL5T5NC'}"
      ]
     },
     "execution_count": 50,
     "metadata": {},
     "output_type": "execute_result"
    }
   ],
   "source": [
    "secret"
   ]
  },
  {
   "cell_type": "code",
   "execution_count": 51,
   "metadata": {},
   "outputs": [],
   "source": [
    "SMTP_SERVER = 'smtp.naver.com'\n",
    "SMTP_PORT = 465\n",
    "SMTP_USER = secret['EMAIL_ID']\n",
    "# 실제 비밀번호 입력\n",
    "SMTP_PASSWORD = secret['EMAIL_PASSWORD']\n",
    "\n",
    "#공백이랑 따움표 있으면 SECRET안돌아감, 위 코드 실행하고 할 것. \n",
    "#"
   ]
  },
  {
   "cell_type": "code",
   "execution_count": 52,
   "metadata": {},
   "outputs": [],
   "source": [
    "from email.mime.multipart import MIMEMultipart\n",
    "from email.mime.text import MIMEText\n",
    "# msg = MIMEMultipart('alternative')\n",
    "\n",
    "msg = MIMEMultipart('mixed')\n",
    "\n",
    "msg['From'] = SMTP_USER + '@naver.com'\n",
    "target_addr = 'adiralee223@gmail.com'\n",
    "msg['To'] = target_addr\n",
    "subject = '정현님 안녕하세요.'\n",
    "msg['Subject'] = subject\n",
    "\n",
    "contents = '같이 데이터분석 열심히 해봐요'\n",
    "text = MIMEText(contents)\n",
    "\n",
    "msg.attach(text)"
   ]
  },
  {
   "cell_type": "code",
   "execution_count": 55,
   "metadata": {},
   "outputs": [
    {
     "name": "stdout",
     "output_type": "stream",
     "text": [
      "log.xlsx\n"
     ]
    }
   ],
   "source": [
    "from email.mime.base import MIMEBase\n",
    "from email import encoders\n",
    "from os.path import basename\n",
    "email_file = MIMEBase('application', 'vnd.ms.excel')\n",
    "\n",
    "file_path = './실습3/log.xlsx'\n",
    "\n",
    "with open(file_path, 'rb') as f:\n",
    "    file_data = f.read()\n",
    "\n",
    "email_file.set_payload(file_data)\n",
    "encoders.encode_base64(email_file)\n",
    "\n",
    "file_name = basename(file_path)\n",
    "print(file_name)\n",
    "email_file.add_header('Content-Disposition', 'attachment', filename=file_name)\n",
    "msg.attach(email_file)"
   ]
  },
  {
   "cell_type": "code",
   "execution_count": 56,
   "metadata": {},
   "outputs": [],
   "source": [
    "smtp = smtplib.SMTP_SSL(SMTP_SERVER, SMTP_PORT)\n",
    "smtp.login(SMTP_USER, SMTP_PASSWORD)\n",
    "smtp.sendmail('hyeondays223@naver.com', 'dlwjdgus223@naver.com', msg.as_string())\n",
    "smtp.close()"
   ]
  },
  {
   "cell_type": "code",
   "execution_count": null,
   "metadata": {},
   "outputs": [],
   "source": [
    "#1.엑셀파일 읽기\n",
    "# -결제 정보 확인\n",
    "# -결제완료면 수강생 이메일 추가 \n",
    "\n",
    "\n",
    "#2.이메일 작성 & 발송"
   ]
  },
  {
   "cell_type": "code",
   "execution_count": null,
   "metadata": {},
   "outputs": [],
   "source": []
  }
 ],
 "metadata": {
  "kernelspec": {
   "display_name": "Python 3",
   "language": "python",
   "name": "python3"
  },
  "language_info": {
   "codemirror_mode": {
    "name": "ipython",
    "version": 3
   },
   "file_extension": ".py",
   "mimetype": "text/x-python",
   "name": "python",
   "nbconvert_exporter": "python",
   "pygments_lexer": "ipython3",
   "version": "3.10.11"
  },
  "orig_nbformat": 4
 },
 "nbformat": 4,
 "nbformat_minor": 2
}
