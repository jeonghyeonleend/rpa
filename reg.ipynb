{
 "cells": [
  {
   "cell_type": "code",
   "execution_count": 2,
   "metadata": {},
   "outputs": [],
   "source": [
    "import re"
   ]
  },
  {
   "cell_type": "code",
   "execution_count": 4,
   "metadata": {},
   "outputs": [],
   "source": [
    "text = \"I like orange! I love orange\""
   ]
  },
  {
   "cell_type": "markdown",
   "metadata": {},
   "source": [
    "re.match()\n",
    "텍스트 앞!에서부터 매치 여부를 조사해서 앞부터 적어야"
   ]
  },
  {
   "cell_type": "code",
   "execution_count": 5,
   "metadata": {},
   "outputs": [],
   "source": [
    "re_object = re.match(\"I like orange\", text)"
   ]
  },
  {
   "cell_type": "code",
   "execution_count": 6,
   "metadata": {},
   "outputs": [
    {
     "data": {
      "text/plain": [
       "re.Match"
      ]
     },
     "execution_count": 6,
     "metadata": {},
     "output_type": "execute_result"
    }
   ],
   "source": [
    "type(re_object) \n",
    "#none=type; 찾지못해서. \n",
    "#찾은다음에 있으면 ~ 처리,이렇게 하는 게 좋음 "
   ]
  },
  {
   "cell_type": "code",
   "execution_count": null,
   "metadata": {},
   "outputs": [],
   "source": [
    "if re_object:\n",
    "    \n",
    "else:\n",
    "    pass"
   ]
  },
  {
   "cell_type": "code",
   "execution_count": 7,
   "metadata": {},
   "outputs": [],
   "source": [
    "#문자열 내에서 정규표현식에 해당하는 가장 최초의 객체 반환 \n",
    "re_object = re.search(\"I like orange\", text)"
   ]
  },
  {
   "cell_type": "code",
   "execution_count": 8,
   "metadata": {},
   "outputs": [
    {
     "data": {
      "text/plain": [
       "<re.Match object; span=(0, 13), match='I like orange'>"
      ]
     },
     "execution_count": 8,
     "metadata": {},
     "output_type": "execute_result"
    }
   ],
   "source": [
    "re_object "
   ]
  },
  {
   "cell_type": "markdown",
   "metadata": {},
   "source": [
    "re.findall()\n",
    " - 정규표현식에 해당하는 문자열을 리스트로 담아서 반환"
   ]
  },
  {
   "cell_type": "code",
   "execution_count": 11,
   "metadata": {},
   "outputs": [],
   "source": [
    "search_list = re.findall('orange', text)"
   ]
  },
  {
   "cell_type": "code",
   "execution_count": 12,
   "metadata": {},
   "outputs": [
    {
     "data": {
      "text/plain": [
       "['orange', 'orange']"
      ]
     },
     "execution_count": 12,
     "metadata": {},
     "output_type": "execute_result"
    }
   ],
   "source": [
    "search_list"
   ]
  },
  {
   "cell_type": "markdown",
   "metadata": {},
   "source": [
    "re.finditer() \n",
    "#iterable한 속성(반복문을 돌릴 수 있으면) 을 갖고있는 자료형: 리스트, 튜플, 문자열, 딕셔너리\n",
    "\n",
    "#mutable, imutable 찾아보기 "
   ]
  },
  {
   "cell_type": "code",
   "execution_count": 13,
   "metadata": {},
   "outputs": [],
   "source": [
    "#iterable? \n",
    "iter_object = re.finditer('orange', text)"
   ]
  },
  {
   "cell_type": "code",
   "execution_count": 14,
   "metadata": {},
   "outputs": [
    {
     "data": {
      "text/plain": [
       "<callable_iterator at 0x216627c2b30>"
      ]
     },
     "execution_count": 14,
     "metadata": {},
     "output_type": "execute_result"
    }
   ],
   "source": [
    "iter_object"
   ]
  },
  {
   "cell_type": "code",
   "execution_count": 15,
   "metadata": {},
   "outputs": [
    {
     "data": {
      "text/plain": [
       "[<re.Match object; span=(7, 13), match='orange'>,\n",
       " <re.Match object; span=(22, 28), match='orange'>]"
      ]
     },
     "execution_count": 15,
     "metadata": {},
     "output_type": "execute_result"
    }
   ],
   "source": [
    "list(iter_object)\n",
    "\n",
    "#한번 아이템을 꺼내고나면은 그 다음 거를 못 꺼냄. \n",
    "#위치값까지 출력됨 "
   ]
  },
  {
   "cell_type": "code",
   "execution_count": 17,
   "metadata": {},
   "outputs": [],
   "source": [
    "orange_list = list(iter_object)"
   ]
  },
  {
   "cell_type": "code",
   "execution_count": 16,
   "metadata": {},
   "outputs": [],
   "source": [
    "for item in iter_object:\n",
    "    print(item)\n",
    "\n",
    "#위에서 아이템을 한번씩 꺼냈기 때문에 출력하면 안나옴"
   ]
  },
  {
   "cell_type": "code",
   "execution_count": 18,
   "metadata": {},
   "outputs": [],
   "source": [
    "for item in orange_list:\n",
    "    print(item)"
   ]
  },
  {
   "cell_type": "code",
   "execution_count": 24,
   "metadata": {},
   "outputs": [
    {
     "data": {
      "text/plain": [
       "<callable_iterator at 0x216627c2b30>"
      ]
     },
     "execution_count": 24,
     "metadata": {},
     "output_type": "execute_result"
    }
   ],
   "source": [
    "iter(iter_object)"
   ]
  },
  {
   "cell_type": "code",
   "execution_count": 23,
   "metadata": {},
   "outputs": [
    {
     "ename": "AttributeError",
     "evalue": "'callable_iterator' object has no attribute 'group'",
     "output_type": "error",
     "traceback": [
      "\u001b[1;31m---------------------------------------------------------------------------\u001b[0m",
      "\u001b[1;31mAttributeError\u001b[0m                            Traceback (most recent call last)",
      "Cell \u001b[1;32mIn[23], line 2\u001b[0m\n\u001b[0;32m      1\u001b[0m \u001b[39m#re.match\u001b[39;00m\n\u001b[1;32m----> 2\u001b[0m item\u001b[39m.\u001b[39;49mgroup()\n",
      "\u001b[1;31mAttributeError\u001b[0m: 'callable_iterator' object has no attribute 'group'"
     ]
    }
   ],
   "source": [
    "#re.match\n",
    "item.group()"
   ]
  },
  {
   "cell_type": "code",
   "execution_count": null,
   "metadata": {},
   "outputs": [],
   "source": [
    "item.start(), item.end(), item.span()"
   ]
  },
  {
   "cell_type": "code",
   "execution_count": 25,
   "metadata": {},
   "outputs": [],
   "source": [
    "text = \"\"\"전국 언론 노동자들이 시민사회단체와 함께 네이버의 지역 차별을 규탄하고 개선을 촉구하는 무기한 릴레이 시위에 돌입했다.\n",
    "\n",
    "전국언론노조와 전국 민주언론시민연합(민언련)은 1일 오전 11시 30분 경기도 성남시의 네이버 본사(그린팩토리) 앞에서 1인 시위를 시작했다. 이날 시위에는 오정훈 전국언론노동조합위원장, 전대식 지역신문노동조합협의회 의장(부산일보 지부장), 김명래 경인일보지부장, 민진영 경기민주언론시민연합 사무처장 등이 참여했다.\n",
    "\n",
    "이들은 1인 시위를 통해 ‘네이버 뉴스 서비스 지역 언론 배제 개선’을 요구하고 ‘지역 공론장 형성을 위한 네이버의 공적 책임’을 촉구했다. 전국언론노조와 민언련은 매주 월요일마다 네이버 본사 앞 시위를 진행할 예정이다.\n",
    "\n",
    "네이버는 최근 뉴스 서비스에 인공지능 에어스(AiRS) 알고리즘을 적용하는 방식으로 뉴스 편집 기능을 개편했다. 이후 지역 언론사 뉴스의 노출이 현격하게 줄어들었다. 아울러 100여 개 모바일 콘텐츠 제휴 언론사 중 독자가 구독을 선택할 수 있는 ‘채널’ 제휴사 44곳을 선정했는데 이 과정에서 지역 언론을 철저하게 배제했다. 이에 반발해 전국언론노조뿐 아니라 한국지방신문협회, 대한민국지방신문협의회 등 지역 신문 단체도 공동 성명을 발표하며 개선을 요구하고 나섰다. 전국시도의회의장협의회는 최근 총회에서 ‘네이버 지역 언론 배제 반대 성명’을 채택하기도 했다. 하지만 이 같은 반발에도 네이버는 뚜렷한 해결책을 내지 않고 있다.\n",
    "\n",
    "오정훈 위원장은 1인 시위에서 “네이버는 해결책을 내놓기는커녕 뉴스제휴평가위원회에만 책임을 떠넘기고 있다”며 “지역 언론 배제 문제의 해결을 위한 대화 요구에 즉각 응답해 뉴스 유통사업자로서의 사회적 역할을 수행해야 한다”고 촉구했다.\n",
    "\n",
    "전대식 의장은 “2005년 당시 네이버는 모든 언론사에 뉴스 유통망을 제공하는 우군이었지만 15년 만에 갑질하고 횡포하는 기업으로 전락했다”며 “지역 언론 종사자들이 만든 콘텐츠가 네이버에서 사라진 현실을 놓고 대화하고 상생적으로 풀어야 한다”면서 협의 창구 개설을 요구했다.\n",
    "\n",
    "민언련은 국내 1위 포털 네이버가 지역 공론장을 만드는 사회적 책임을 외면하는 것은 현 정부의 지방분권 강화 정책에 위배되는 것이라고 지적했다.\n",
    "\n",
    "민진영 사무처장은 “네이버가 지역신문에 대한 보도를 배제하고 시민들과의 소통 창구를 차단하는 것은 현 정부 정책인 지방분권 강화, 민주주의 정착이라는 큰 의제를 거역하는 것”이라며 “이런 행태는 반드시 중단돼야 하고 다양한 소식들이 소비자와 시민에게 전달돼야 한다”고 강조했다.\n",
    "\n",
    "출처 : 제주新보(http://www.jejunews.com)\"\"\""
   ]
  },
  {
   "cell_type": "code",
   "execution_count": 37,
   "metadata": {},
   "outputs": [
    {
     "data": {
      "text/plain": [
       "13"
      ]
     },
     "execution_count": 37,
     "metadata": {},
     "output_type": "execute_result"
    }
   ],
   "source": [
    "len(list(re.finditer('네이버', text)))"
   ]
  },
  {
   "cell_type": "code",
   "execution_count": 27,
   "metadata": {},
   "outputs": [
    {
     "name": "stdout",
     "output_type": "stream",
     "text": [
      "<callable_iterator object at 0x0000021662627850>\n"
     ]
    }
   ],
   "source": [
    "print(iter_object)"
   ]
  },
  {
   "cell_type": "code",
   "execution_count": 28,
   "metadata": {},
   "outputs": [],
   "source": [
    "iter_list = list(iter_object)"
   ]
  },
  {
   "cell_type": "code",
   "execution_count": 29,
   "metadata": {},
   "outputs": [],
   "source": [
    "for item in orange_list:\n",
    "    print(item)"
   ]
  },
  {
   "cell_type": "code",
   "execution_count": 32,
   "metadata": {},
   "outputs": [
    {
     "data": {
      "text/plain": [
       "13"
      ]
     },
     "execution_count": 32,
     "metadata": {},
     "output_type": "execute_result"
    }
   ],
   "source": [
    "len(re.findall('네이버', text))"
   ]
  },
  {
   "cell_type": "code",
   "execution_count": 31,
   "metadata": {},
   "outputs": [
    {
     "data": {
      "text/plain": [
       "['네이버',\n",
       " '네이버',\n",
       " '네이버',\n",
       " '네이버',\n",
       " '네이버',\n",
       " '네이버',\n",
       " '네이버',\n",
       " '네이버',\n",
       " '네이버',\n",
       " '네이버',\n",
       " '네이버',\n",
       " '네이버',\n",
       " '네이버']"
      ]
     },
     "execution_count": 31,
     "metadata": {},
     "output_type": "execute_result"
    }
   ],
   "source": [
    "list"
   ]
  },
  {
   "cell_type": "code",
   "execution_count": null,
   "metadata": {},
   "outputs": [],
   "source": [
    "#^는 맨 앞에 붙여주면 문자열의 시작을 의미. \n",
    "#끝 $는 맨 끝에 있는것만 찾아줌. \n",
    "#\\특수문자: 표현식 \\$: 맨끝이 아닌 특수기호로 처리. \n",
    "#ex) \\n: 엔터 이런것처럼 \\$렇게하면 $가 이제 나온다는 듯. \n",
    "\n",
    "#모든 문자열을 관리하는 '.'\n",
    "#'.'는 모든 문자. '..'는 모든 문자 2개씩. \n",
    "\n",
    "\n",
    "#[]는 범위판단. \n",
    "#[a-z](a부터 z까지 소문자만...모든 값을 가져와)[orn]\n",
    "\n"
   ]
  },
  {
   "cell_type": "code",
   "execution_count": 38,
   "metadata": {},
   "outputs": [
    {
     "data": {
      "text/plain": [
       "13"
      ]
     },
     "execution_count": 38,
     "metadata": {},
     "output_type": "execute_result"
    }
   ],
   "source": [
    "text.count('네이버')"
   ]
  },
  {
   "cell_type": "code",
   "execution_count": 39,
   "metadata": {},
   "outputs": [],
   "source": [
    "numbers = \"\"\"[^a-zA-Z0-9_]\"\"\""
   ]
  },
  {
   "cell_type": "code",
   "execution_count": 40,
   "metadata": {},
   "outputs": [
    {
     "ename": "TypeError",
     "evalue": "findall() missing 1 required positional argument: 'string'",
     "output_type": "error",
     "traceback": [
      "\u001b[1;31m---------------------------------------------------------------------------\u001b[0m",
      "\u001b[1;31mTypeError\u001b[0m                                 Traceback (most recent call last)",
      "Cell \u001b[1;32mIn[40], line 1\u001b[0m\n\u001b[1;32m----> 1\u001b[0m re\u001b[39m.\u001b[39;49mfindall(\u001b[39m'\u001b[39;49m\u001b[39m[0-9]\u001b[39;49m\u001b[39m{3}\u001b[39;49;00m\u001b[39m - [0-9]\u001b[39;49m\u001b[39m{\u001b[39;49m\u001b[39m3-4} - [0-9]\u001b[39;49m\u001b[39m{4}\u001b[39;49;00m\u001b[39m'\u001b[39;49m)\n",
      "\u001b[1;31mTypeError\u001b[0m: findall() missing 1 required positional argument: 'string'"
     ]
    }
   ],
   "source": [
    "re.findall('[0-9]{3} - [0-9]{3-4} - [0-9]{4}')"
   ]
  },
  {
   "cell_type": "code",
   "execution_count": 41,
   "metadata": {},
   "outputs": [],
   "source": [
    "text = \"\"\"\n",
    "수강해야 하는 과목\n",
    "(machine learning, deep learning)\n",
    "수강한 과목\n",
    "[python, django, web design]\n",
    "\"\"\""
   ]
  },
  {
   "cell_type": "code",
   "execution_count": 42,
   "metadata": {},
   "outputs": [
    {
     "data": {
      "text/plain": [
       "'\\n수강해야 하는 과목\\n(machine learning, deep learning)\\n수강한 과목\\n[python, django, web design]\\n'"
      ]
     },
     "execution_count": 42,
     "metadata": {},
     "output_type": "execute_result"
    }
   ],
   "source": [
    "re.sub('regex', '바꿀 문자열', text)"
   ]
  },
  {
   "cell_type": "code",
   "execution_count": 43,
   "metadata": {},
   "outputs": [],
   "source": [
    "#수강해야하는 과목은 놔두고 수강한 과목을 지우고자..\n",
    "#대괄호를 기호로 넣어주고..대괄호 사이 모든 과목들을 지우겠다\n",
    "#정규표현식을 활용하면 그 모든 단어들 정확히 일치하게 넣지않아도 바꿀 수 있다는 것. \n",
    "\n",
    "re.sub('\\[.*\\]','',text)"
   ]
  },
  {
   "cell_type": "code",
   "execution_count": 45,
   "metadata": {},
   "outputs": [
    {
     "ename": "SyntaxError",
     "evalue": "unexpected character after line continuation character (916235799.py, line 1)",
     "output_type": "error",
     "traceback": [
      "\u001b[1;36m  Cell \u001b[1;32mIn[45], line 1\u001b[1;36m\u001b[0m\n\u001b[1;33m    \\[.+/]\u001b[0m\n\u001b[1;37m     ^\u001b[0m\n\u001b[1;31mSyntaxError\u001b[0m\u001b[1;31m:\u001b[0m unexpected character after line continuation character\n"
     ]
    }
   ],
   "source": [
    "\\[.+/]\n",
    "#물음표만 빼고 +등을 바꾸면 됨. \n",
    "#아래 부분을 바꾸겠다...이"
   ]
  },
  {
   "cell_type": "code",
   "execution_count": 47,
   "metadata": {},
   "outputs": [
    {
     "data": {
      "text/plain": [
       "'\\n수강해야 하는 과목\\n(machine learning, deep learning)\\n수강한 과목\\n\\n'"
      ]
     },
     "execution_count": 47,
     "metadata": {},
     "output_type": "execute_result"
    }
   ],
   "source": [
    "text.replace('[python, django, web design]', '')"
   ]
  },
  {
   "cell_type": "code",
   "execution_count": null,
   "metadata": {},
   "outputs": [],
   "source": [
    "#공백 여러개 있는 걸 하나로 바꾸기 \n",
    "re.sub([],'', text)\n",
    "\n",
    "#공백 두 개 이상을 하나로 바꾸기. {2,}이렇게 비워두면 됨. \n",
    "re.sub([]{2,}','', text)\n",
    "       "
   ]
  },
  {
   "cell_type": "code",
   "execution_count": null,
   "metadata": {},
   "outputs": [],
   "source": [
    "#이메일 형식: 아이디@도메인\n",
    "#아이디 부분: [a-zA-Z0-9_] -> \\w\n",
    "#도메인 부분: \\w\n",
    "#예시) naver.com / best.kr / r119.co.kr/ korea.ai.kr 등등\n",
    "# \\w+\\.[a-z]{}\n"
   ]
  },
  {
   "cell_type": "code",
   "execution_count": null,
   "metadata": {},
   "outputs": [],
   "source": [
    "#힌트1: @ 뒤의 도메인 부분을 어떻게 처리할지 생각해야함\n",
    "\\w + \\@ + \\.[a-z]{2,}[\\.a-z]{0,3}+\\. + [a-z]{2,}\n",
    "#힌트2: .co.kr/ .com/ .kr (수량 판단 - {,})"
   ]
  },
  {
   "cell_type": "code",
   "execution_count": null,
   "metadata": {},
   "outputs": [],
   "source": [
    "\\w+\\.[a-z]{2,}(\\.[a-z]+)?"
   ]
  },
  {
   "cell_type": "code",
   "execution_count": null,
   "metadata": {},
   "outputs": [],
   "source": [
    "[a-zA-Z0-9_]*@[a-z0-9]*\\.[a-z]{2,}[\\.a-z]*\n",
    "\n",
    "#얘 넣으면 이메일 고를 수 있긴하군. 어떤 수강생분이 올려주셨다고. \n"
   ]
  },
  {
   "cell_type": "code",
   "execution_count": null,
   "metadata": {},
   "outputs": [],
   "source": [
    "\\w{2,}@w{2,}\\..+\n",
    "#얘도 됨. 뒤에 +를 달면 모든 걸 하나로 묶(?)는다고..\n",
    "#.+는 근데 공백으로 떨어져있는 이메일들이 있을수있으므로 \n",
    "#활용하기 좋지않음. "
   ]
  },
  {
   "cell_type": "code",
   "execution_count": null,
   "metadata": {},
   "outputs": [],
   "source": [
    "list(re.finditer('\\w+\\@\\w+ \\.[a-z]{2,}(\\.[a-z])')"
   ]
  },
  {
   "cell_type": "code",
   "execution_count": null,
   "metadata": {},
   "outputs": [],
   "source": [
    "# 텍스트중에 <내용> 괄호로 묶여진 텍스트를 괄호 포함 모두\n",
    "#제거해주세요 \n",
    "r\"<.*?>\""
   ]
  },
  {
   "cell_type": "code",
   "execution_count": 50,
   "metadata": {},
   "outputs": [],
   "source": [
    "text = ''"
   ]
  },
  {
   "cell_type": "code",
   "execution_count": 48,
   "metadata": {},
   "outputs": [
    {
     "data": {
      "text/plain": [
       "'\\n수강해야 하는 과목\\n(machine learning, deep learning)\\n수강한 과목\\n[python, django, web design]\\n'"
      ]
     },
     "execution_count": 48,
     "metadata": {},
     "output_type": "execute_result"
    }
   ],
   "source": [
    "re.sub('regex','', text)"
   ]
  },
  {
   "cell_type": "code",
   "execution_count": null,
   "metadata": {},
   "outputs": [],
   "source": [
    "#<text> 가 여는 태그, </text>는 닫는 태그인데 \n",
    "#이 친구들을 한번에 같이 출력하는 방법. "
   ]
  },
  {
   "cell_type": "code",
   "execution_count": null,
   "metadata": {},
   "outputs": [],
   "source": [
    "\\<.*\\>"
   ]
  },
  {
   "cell_type": "code",
   "execution_count": null,
   "metadata": {},
   "outputs": [],
   "source": [
    "\\<[^\\>]+\\> #닫는 괄호를 만나기전까지 모든 문자열.\n",
    "\n",
    "[^\\>]+얘갸 약간 중간에 슬래시있어도되고 없어도되고 그런건가...?"
   ]
  },
  {
   "cell_type": "code",
   "execution_count": null,
   "metadata": {},
   "outputs": [],
   "source": [
    "#greedy하게 탐색하다가 *?가 붙으면 lazy하게 탐색함\n",
    "#근데 이렇게 쓰는게 좋지는 않은듯. "
   ]
  },
  {
   "cell_type": "code",
   "execution_count": null,
   "metadata": {},
   "outputs": [],
   "source": [
    "<[가-힇\\w\"\\.\\/ \\=]*>"
   ]
  },
  {
   "cell_type": "code",
   "execution_count": null,
   "metadata": {},
   "outputs": [],
   "source": [
    "\\<.{4}\\> \\</.{4}\\> \n",
    "#나의해결"
   ]
  },
  {
   "cell_type": "code",
   "execution_count": 51,
   "metadata": {},
   "outputs": [
    {
     "ename": "SyntaxError",
     "evalue": "unexpected character after line continuation character (893549607.py, line 1)",
     "output_type": "error",
     "traceback": [
      "\u001b[1;36m  Cell \u001b[1;32mIn[51], line 1\u001b[1;36m\u001b[0m\n\u001b[1;33m    \\<span\\>.*?\\<\\/span\\>\u001b[0m\n\u001b[1;37m     ^\u001b[0m\n\u001b[1;31mSyntaxError\u001b[0m\u001b[1;31m:\u001b[0m unexpected character after line continuation character\n"
     ]
    }
   ],
   "source": [
    "\\<span\\>.*?\\<\\/span\\>\n",
    "\n",
    "\\<span\\>[^\\<]+\\<\\/span\\> #얘는 사용하기가 애매 span태그와 span태그 사이 가까운 걸 찾아줌\n",
    "#괄호가 없는경우면 그냥 써도 상관없음"
   ]
  },
  {
   "cell_type": "code",
   "execution_count": null,
   "metadata": {},
   "outputs": [],
   "source": [
    "#실습3\n",
    "#1.정규표현식\n",
    "#\\<span\\>.*?\\<\\/span\\>\n",
    "#\\<span\\>[^/<]+\\</span/>\n",
    "#심화 - 한번에 처리\n",
    "# (?<=\\<span\\>).*?(?=\\<\\/span/>)"
   ]
  }
 ],
 "metadata": {
  "kernelspec": {
   "display_name": "webc",
   "language": "python",
   "name": "python3"
  },
  "language_info": {
   "codemirror_mode": {
    "name": "ipython",
    "version": 3
   },
   "file_extension": ".py",
   "mimetype": "text/x-python",
   "name": "python",
   "nbconvert_exporter": "python",
   "pygments_lexer": "ipython3",
   "version": "3.10.11"
  },
  "orig_nbformat": 4
 },
 "nbformat": 4,
 "nbformat_minor": 2
}
