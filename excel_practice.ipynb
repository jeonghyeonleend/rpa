{
 "cells": [
  {
   "cell_type": "code",
   "execution_count": 2,
   "metadata": {},
   "outputs": [],
   "source": [
    "import os\n",
    "import openpyxl"
   ]
  },
  {
   "cell_type": "code",
   "execution_count": 6,
   "metadata": {},
   "outputs": [],
   "source": [
    "#실습3\n",
    "BASE_DIR = './실습3'\n",
    "\n",
    "csv_files = os.listdir(BASE_DIR)"
   ]
  },
  {
   "cell_type": "code",
   "execution_count": 7,
   "metadata": {},
   "outputs": [
    {
     "data": {
      "text/plain": [
       "['2017.12.1.xlsx',\n",
       " '2017.12.2.xlsx',\n",
       " '2017.12.3.xlsx',\n",
       " '2017.12.4.xlsx',\n",
       " '2017.12.5.xlsx',\n",
       " '2017.12.6.xlsx',\n",
       " '2017.12.7.xlsx',\n",
       " '2017.12.8.xlsx',\n",
       " '2017.12.9.xlsx',\n",
       " 'log.xlsx']"
      ]
     },
     "execution_count": 7,
     "metadata": {},
     "output_type": "execute_result"
    }
   ],
   "source": [
    "csv_files"
   ]
  },
  {
   "cell_type": "code",
   "execution_count": 9,
   "metadata": {},
   "outputs": [],
   "source": [
    "log = openpyxl.Workbook()"
   ]
  },
  {
   "cell_type": "code",
   "execution_count": 12,
   "metadata": {},
   "outputs": [
    {
     "ename": "UnicodeDecodeError",
     "evalue": "'cp949' codec can't decode byte 0xfd in position 17: illegal multibyte sequence",
     "output_type": "error",
     "traceback": [
      "\u001b[1;31m---------------------------------------------------------------------------\u001b[0m",
      "\u001b[1;31mUnicodeDecodeError\u001b[0m                        Traceback (most recent call last)",
      "Cell \u001b[1;32mIn[12], line 4\u001b[0m\n\u001b[0;32m      1\u001b[0m sell_data \u001b[39m=\u001b[39m []\n\u001b[0;32m      3\u001b[0m \u001b[39mfor\u001b[39;00m cf \u001b[39min\u001b[39;00m csv_files:\n\u001b[1;32m----> 4\u001b[0m     datas \u001b[39m=\u001b[39m \u001b[39mopen\u001b[39;49m(BASE_DIR \u001b[39m+\u001b[39;49m cf, \u001b[39m'\u001b[39;49m\u001b[39mr\u001b[39;49m\u001b[39m'\u001b[39;49m, encoding \u001b[39m=\u001b[39;49m \u001b[39m'\u001b[39;49m\u001b[39mcp949\u001b[39;49m\u001b[39m'\u001b[39;49m)\u001b[39m.\u001b[39;49mreadlines()\n\u001b[0;32m      5\u001b[0m     log\u001b[39m.\u001b[39mappend(datas)\n",
      "\u001b[1;31mUnicodeDecodeError\u001b[0m: 'cp949' codec can't decode byte 0xfd in position 17: illegal multibyte sequence"
     ]
    }
   ],
   "source": [
    "for cf in csv_files:\n",
    "    datas = open(BASE_DIR + cf, 'r', encoding = 'cp949').readlines()\n",
    "    log.append(datas)\n",
    "\n",
    "    #with open(BASE_DIR + cf, 'r') as f:\n",
    "        #f.readlines() #이거 두개 차이 없고 똑같다구 함. \n",
    "        "
   ]
  },
  {
   "cell_type": "code",
   "execution_count": 11,
   "metadata": {},
   "outputs": [
    {
     "ename": "TypeError",
     "evalue": "expected str, bytes or os.PathLike object, not list",
     "output_type": "error",
     "traceback": [
      "\u001b[1;31m---------------------------------------------------------------------------\u001b[0m",
      "\u001b[1;31mTypeError\u001b[0m                                 Traceback (most recent call last)",
      "Cell \u001b[1;32mIn[11], line 1\u001b[0m\n\u001b[1;32m----> 1\u001b[0m wb \u001b[39m=\u001b[39m openpyxl\u001b[39m.\u001b[39;49mload_workbook(csv_files)\n",
      "File \u001b[1;32mc:\\Users\\dlwjd\\anaconda3\\envs\\webc\\lib\\site-packages\\openpyxl\\reader\\excel.py:344\u001b[0m, in \u001b[0;36mload_workbook\u001b[1;34m(filename, read_only, keep_vba, data_only, keep_links, rich_text)\u001b[0m\n\u001b[0;32m    314\u001b[0m \u001b[39mdef\u001b[39;00m \u001b[39mload_workbook\u001b[39m(filename, read_only\u001b[39m=\u001b[39m\u001b[39mFalse\u001b[39;00m, keep_vba\u001b[39m=\u001b[39mKEEP_VBA,\n\u001b[0;32m    315\u001b[0m                   data_only\u001b[39m=\u001b[39m\u001b[39mFalse\u001b[39;00m, keep_links\u001b[39m=\u001b[39m\u001b[39mTrue\u001b[39;00m, rich_text\u001b[39m=\u001b[39m\u001b[39mFalse\u001b[39;00m):\n\u001b[0;32m    316\u001b[0m \u001b[39m    \u001b[39m\u001b[39m\"\"\"Open the given filename and return the workbook\u001b[39;00m\n\u001b[0;32m    317\u001b[0m \n\u001b[0;32m    318\u001b[0m \u001b[39m    :param filename: the path to open or a file-like object\u001b[39;00m\n\u001b[1;32m   (...)\u001b[0m\n\u001b[0;32m    342\u001b[0m \n\u001b[0;32m    343\u001b[0m \u001b[39m    \"\"\"\u001b[39;00m\n\u001b[1;32m--> 344\u001b[0m     reader \u001b[39m=\u001b[39m ExcelReader(filename, read_only, keep_vba,\n\u001b[0;32m    345\u001b[0m                          data_only, keep_links, rich_text)\n\u001b[0;32m    346\u001b[0m     reader\u001b[39m.\u001b[39mread()\n\u001b[0;32m    347\u001b[0m     \u001b[39mreturn\u001b[39;00m reader\u001b[39m.\u001b[39mwb\n",
      "File \u001b[1;32mc:\\Users\\dlwjd\\anaconda3\\envs\\webc\\lib\\site-packages\\openpyxl\\reader\\excel.py:123\u001b[0m, in \u001b[0;36mExcelReader.__init__\u001b[1;34m(self, fn, read_only, keep_vba, data_only, keep_links, rich_text)\u001b[0m\n\u001b[0;32m    121\u001b[0m \u001b[39mdef\u001b[39;00m \u001b[39m__init__\u001b[39m(\u001b[39mself\u001b[39m, fn, read_only\u001b[39m=\u001b[39m\u001b[39mFalse\u001b[39;00m, keep_vba\u001b[39m=\u001b[39mKEEP_VBA,\n\u001b[0;32m    122\u001b[0m              data_only\u001b[39m=\u001b[39m\u001b[39mFalse\u001b[39;00m, keep_links\u001b[39m=\u001b[39m\u001b[39mTrue\u001b[39;00m, rich_text\u001b[39m=\u001b[39m\u001b[39mFalse\u001b[39;00m):\n\u001b[1;32m--> 123\u001b[0m     \u001b[39mself\u001b[39m\u001b[39m.\u001b[39marchive \u001b[39m=\u001b[39m _validate_archive(fn)\n\u001b[0;32m    124\u001b[0m     \u001b[39mself\u001b[39m\u001b[39m.\u001b[39mvalid_files \u001b[39m=\u001b[39m \u001b[39mself\u001b[39m\u001b[39m.\u001b[39marchive\u001b[39m.\u001b[39mnamelist()\n\u001b[0;32m    125\u001b[0m     \u001b[39mself\u001b[39m\u001b[39m.\u001b[39mread_only \u001b[39m=\u001b[39m read_only\n",
      "File \u001b[1;32mc:\\Users\\dlwjd\\anaconda3\\envs\\webc\\lib\\site-packages\\openpyxl\\reader\\excel.py:77\u001b[0m, in \u001b[0;36m_validate_archive\u001b[1;34m(filename)\u001b[0m\n\u001b[0;32m     75\u001b[0m is_file_like \u001b[39m=\u001b[39m \u001b[39mhasattr\u001b[39m(filename, \u001b[39m'\u001b[39m\u001b[39mread\u001b[39m\u001b[39m'\u001b[39m)\n\u001b[0;32m     76\u001b[0m \u001b[39mif\u001b[39;00m \u001b[39mnot\u001b[39;00m is_file_like:\n\u001b[1;32m---> 77\u001b[0m     file_format \u001b[39m=\u001b[39m os\u001b[39m.\u001b[39;49mpath\u001b[39m.\u001b[39;49msplitext(filename)[\u001b[39m-\u001b[39m\u001b[39m1\u001b[39m]\u001b[39m.\u001b[39mlower()\n\u001b[0;32m     78\u001b[0m     \u001b[39mif\u001b[39;00m file_format \u001b[39mnot\u001b[39;00m \u001b[39min\u001b[39;00m SUPPORTED_FORMATS:\n\u001b[0;32m     79\u001b[0m         \u001b[39mif\u001b[39;00m file_format \u001b[39m==\u001b[39m \u001b[39m'\u001b[39m\u001b[39m.xls\u001b[39m\u001b[39m'\u001b[39m:\n",
      "File \u001b[1;32mc:\\Users\\dlwjd\\anaconda3\\envs\\webc\\lib\\ntpath.py:230\u001b[0m, in \u001b[0;36msplitext\u001b[1;34m(p)\u001b[0m\n\u001b[0;32m    229\u001b[0m \u001b[39mdef\u001b[39;00m \u001b[39msplitext\u001b[39m(p):\n\u001b[1;32m--> 230\u001b[0m     p \u001b[39m=\u001b[39m os\u001b[39m.\u001b[39;49mfspath(p)\n\u001b[0;32m    231\u001b[0m     \u001b[39mif\u001b[39;00m \u001b[39misinstance\u001b[39m(p, \u001b[39mbytes\u001b[39m):\n\u001b[0;32m    232\u001b[0m         \u001b[39mreturn\u001b[39;00m genericpath\u001b[39m.\u001b[39m_splitext(p, \u001b[39mb\u001b[39m\u001b[39m'\u001b[39m\u001b[39m\\\\\u001b[39;00m\u001b[39m'\u001b[39m, \u001b[39mb\u001b[39m\u001b[39m'\u001b[39m\u001b[39m/\u001b[39m\u001b[39m'\u001b[39m, \u001b[39mb\u001b[39m\u001b[39m'\u001b[39m\u001b[39m.\u001b[39m\u001b[39m'\u001b[39m)\n",
      "\u001b[1;31mTypeError\u001b[0m: expected str, bytes or os.PathLike object, not list"
     ]
    }
   ],
   "source": [
    "wb = openpyxl.load_workbook(csv_files)"
   ]
  },
  {
   "cell_type": "code",
   "execution_count": 9,
   "metadata": {},
   "outputs": [
    {
     "name": "stdout",
     "output_type": "stream",
     "text": [
      "['2017.12.1.xlsx', '2017.12.2.xlsx', '2017.12.3.xlsx', '2017.12.4.xlsx', '2017.12.5.xlsx', '2017.12.6.xlsx', '2017.12.7.xlsx', '2017.12.8.xlsx', '2017.12.9.xlsx', 'log.xlsx']\n"
     ]
    }
   ],
   "source": [
    "#강사님\n",
    "import os\n",
    "\n",
    "# 1. os.listdir()로 excel 파일목록 가져오기\n",
    "excel_files = os.listdir('./실습3/')\n",
    "\n",
    "print(excel_files)\n",
    "\n",
    "log_excel = openpyxl.Workbook()\n",
    "log_sheet = log_excel.active\n",
    "\n",
    "# 2. 엑셀파일을 하나씩 열어서 각 cell의 값들을 확인\n",
    "row_index = 1\n",
    "for excel_file in excel_files:\n",
    "    wb = openpyxl.load_workbook('./실습3/' + excel_file)\n",
    "    ws = wb.active\n",
    "    cells = ws['A1:C24']\n",
    "    # ord chr\n",
    "    for row in cells:\n",
    "        # values = [cell.value for cell in row]\n",
    "        # # 1. append\n",
    "        # log_sheet.append(values)\n",
    "\n",
    "        # 2. row index\n",
    "        for log_row in log_sheet[f'A{row_index}:C{row_index}']:\n",
    "            for i, cell in enumerate(log_row):\n",
    "                cell.value = row[i].value\n",
    "        row_index += 1\n",
    "\n",
    "\n",
    "# 3. 데이터 저장 or 바로 새 workbook에 쓰기\n",
    "log_excel.save('./실습3/log.xlsx')"
   ]
  },
  {
   "cell_type": "code",
   "execution_count": 10,
   "metadata": {},
   "outputs": [],
   "source": [
    "import requests\n",
    "import os\n",
    "import openpyxl"
   ]
  },
  {
   "cell_type": "code",
   "execution_count": 11,
   "metadata": {},
   "outputs": [],
   "source": [
    "BASE_DIR = './실습5'\n",
    "\n",
    "csv_files = os.listdir(BASE_DIR)"
   ]
  },
  {
   "cell_type": "code",
   "execution_count": 14,
   "metadata": {},
   "outputs": [],
   "source": [
    "wb= openpyxl.load_workbook('./실습5/수강생_결제정보.xlsx')\n",
    "ws= wb.active"
   ]
  },
  {
   "cell_type": "code",
   "execution_count": 15,
   "metadata": {},
   "outputs": [],
   "source": [
    "emails = []\n",
    "for row in ws.iter_rows(): #iter_rows는 한줄씩 한줄씩 읽어냄. \n",
    "          if row[3].value == '결제완료':\n",
    "                    emails.append(row[1].value)"
   ]
  },
  {
   "cell_type": "code",
   "execution_count": 20,
   "metadata": {},
   "outputs": [
    {
     "data": {
      "text/plain": [
       "['svstar94@gmail.com',\n",
       " 'svstar94@gmail.com',\n",
       " 'svstar94@gmail.com',\n",
       " 'svstar94@gmail.com',\n",
       " 'svstar94@gmail.com',\n",
       " 'svstar94@gmail.com',\n",
       " 'svstar94@gmail.com',\n",
       " 'svstar94@gmail.com',\n",
       " 'svstar94@gmail.com',\n",
       " 'svstar94@gmail.com']"
      ]
     },
     "execution_count": 20,
     "metadata": {},
     "output_type": "execute_result"
    }
   ],
   "source": [
    "emails"
   ]
  },
  {
   "cell_type": "code",
   "execution_count": 17,
   "metadata": {},
   "outputs": [],
   "source": [
    "iterator = iter(ws.iter_rows())"
   ]
  },
  {
   "cell_type": "code",
   "execution_count": 18,
   "metadata": {},
   "outputs": [],
   "source": [
    "with open('secret', 'r') as f:\n",
    "    secret = { l.split('=')[0]:l.split('=')[1].rstrip()  for l in f.readlines() }"
   ]
  },
  {
   "cell_type": "code",
   "execution_count": 19,
   "metadata": {},
   "outputs": [],
   "source": [
    "SMTP_SERVER = 'smtp.naver.com'\n",
    "SMTP_PORT = 465\n",
    "SMTP_USER = secret['EMAIL_ID']\n",
    "# 실제 비밀번호 입력\n",
    "SMTP_PASSWORD = secret['EMAIL_PASSWORD']\n",
    "\n",
    "#공백이랑 따움표 있으면 SECRET안돌아감, 위 코드 실행하고 할 것. \n",
    "#"
   ]
  },
  {
   "cell_type": "code",
   "execution_count": null,
   "metadata": {},
   "outputs": [],
   "source": [
    "from email.mime.base import MIMEBase\n",
    "from email import encoders\n",
    "from os.path import basename\n",
    "email_file = MIMEBase('application', 'vnd.ms.excel')\n",
    "\n",
    "file_path = './실습5/log.xlsx'\n",
    "\n",
    "with open(file_path, 'rb') as f:\n",
    "    file_data = f.read()\n",
    "\n",
    "email_file.set_payload(file_data)\n",
    "encoders.encode_base64(email_file)\n",
    "\n",
    "file_name = basename(file_path)\n",
    "print(file_name)\n",
    "email_file.add_header('Content-Disposition', 'attachment', filename=file_name)\n",
    "msg.attach(email_file)"
   ]
  }
 ],
 "metadata": {
  "kernelspec": {
   "display_name": "webc",
   "language": "python",
   "name": "python3"
  },
  "language_info": {
   "codemirror_mode": {
    "name": "ipython",
    "version": 3
   },
   "file_extension": ".py",
   "mimetype": "text/x-python",
   "name": "python",
   "nbconvert_exporter": "python",
   "pygments_lexer": "ipython3",
   "version": "3.10.11"
  },
  "orig_nbformat": 4
 },
 "nbformat": 4,
 "nbformat_minor": 2
}
